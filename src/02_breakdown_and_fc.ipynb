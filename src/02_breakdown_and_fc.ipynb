{
 "cells": [
  {
   "cell_type": "markdown",
   "id": "9826c7ad-315f-4f80-83eb-be540ea80c05",
   "metadata": {},
   "source": [
    "Subset 1 (s1): origin US, destination US corr to Anal_0 <br>\n",
    "Subset 2 (s2): origin AFW, destination all corr to Anal_7 <br>\n",
    "Subset 3 (s3): origin all, destination AFW corr to Anal_8 <br>\n",
    "Subset 4 (s4): origin KIS, destination all corr to Anal_9<br>\n",
    "Subset 5 (s5): origin all, destination KIS corr to Anal_10<br>\n",
    "\n",
    "\n",
    "Analysis 0: origin US, dest US <br>\n",
    "Analysis 1: origin US, dest non-US <br>\n",
    "Analysis 2: origin non-US, dest US <br>\n",
    "Analysis 3: origin all, dest all<br>\n",
    "Analysis 4: origin all states, dest all<br>\n",
    "Analysis 5: origin all, dest all states<br>\n",
    "Analysis 6: origin US, dest all<br>\n",
    "Analysis 7: origin AFW, destination all <br>\n",
    "Analysis 8: origin all, destination AFW<br>\n",
    "Analysis 9: origin KIS, destination all<br>\n",
    "Analysis 10: origin all, destination KIS<br>"
   ]
  },
  {
   "cell_type": "code",
   "execution_count": null,
   "id": "1bd8984b-2a5c-46f9-a6ca-364a82656b9c",
   "metadata": {
    "tags": []
   },
   "outputs": [],
   "source": [
    "from IPython.core.interactiveshell import InteractiveShell\n",
    "InteractiveShell.ast_node_interactivity = \"all\""
   ]
  },
  {
   "cell_type": "code",
   "execution_count": null,
   "id": "6d46ecc7-1fc4-4713-b4ad-dd9fd82e72b6",
   "metadata": {
    "tags": []
   },
   "outputs": [],
   "source": [
    "import sys, os, pathlib, shutil, platform\n",
    "import pandas as pd\n",
    "import numpy as np\n",
    "import matplotlib.pyplot as plt\n",
    "from scipy import stats\n",
    "\n",
    "from statsmodels.tsa.seasonal import seasonal_decompose\n",
    "from statsmodels.tsa.statespace.sarimax import SARIMAX\n",
    "from statsmodels.stats.diagnostic import lilliefors\n",
    "\n",
    "from prophet import Prophet\n",
    "\n",
    "from prophet.diagnostics import cross_validation\n",
    "from prophet.diagnostics import performance_metrics\n",
    "\n",
    "from prophet.plot import plot_plotly, plot_components_plotly\n",
    "from prophet.plot import plot_cross_validation_metric\n",
    "\n",
    "# import plotly.graph_objs as go\n",
    "import plotly.express as px\n",
    "\n",
    "import math"
   ]
  },
  {
   "cell_type": "code",
   "execution_count": null,
   "id": "0a126c9a-ceb5-48f3-8bed-e094fa495d67",
   "metadata": {
    "tags": []
   },
   "outputs": [],
   "source": [
    "%matplotlib inline \n",
    "%load_ext autoreload\n",
    "%autoreload 2\n",
    " \n",
    "plt.rcParams['figure.figsize']=(20,10)"
   ]
  },
  {
   "cell_type": "code",
   "execution_count": null,
   "id": "b9de7c7d-6682-46fc-a5fe-10a8cb3e095f",
   "metadata": {
    "tags": []
   },
   "outputs": [],
   "source": [
    "def load_datsets(data_path, years_list, analysis_type_list):\n",
    "    \"\"\"\n",
    "    Concatanates a list of datasets into one dataframe\n",
    "\n",
    "    Returns:\n",
    "    Concatanated list as a dataframe\n",
    "    \"\"\"\n",
    "    full_path_list = [data_path+str(crt_year) + '_analysis'+ str(analysis_type) +'_' + str(regional_flag)+'_'+str(aircraft_flag) + '.csv' \n",
    "                      for crt_year in years_list \n",
    "                      for analysis_type in analysis_type_list]\n",
    "    print(full_path_list[0])\n",
    "    allDatasets= pd.concat([pd.read_csv(str(crt_file_name)) for crt_file_name in full_path_list], keys=years_list).reset_index()\n",
    "    return allDatasets"
   ]
  },
  {
   "cell_type": "code",
   "execution_count": null,
   "id": "373c75f7-a543-457e-8330-9b4e1adefa5c",
   "metadata": {},
   "outputs": [],
   "source": [
    "data_path='./../../../data/paav_cargo/agg_data/freight_aggregation__' \n",
    "\n",
    "analysis_type_list = [analysis_type for analysis_type in range(11)]\n",
    "regional_flag = \"regional\"\n",
    "# regional_flag options: 'alldistance', 'regional'\n",
    "aircraft_flag = \"jets\"\n",
    "# aircraft_flag options:'jetsandnonjets', 'nonjets', 'jets'\n",
    "\n",
    "#use these for s2,s3,s4,s5\n",
    "years_list=[yr for yr in range (1990,2024)]\n",
    "years_list_noCov=[yr for yr in range (1990,2020)]\n",
    "\n",
    "#use these for s1\n",
    "years_list=[yr for yr in range (2004,2024)]\n",
    "years_list_noCov=[yr for yr in range (2004,2020)]\n",
    "\n",
    "analysis_type_list = [0]\n",
    "preprocessed_data_s1 = load_datsets(data_path, years_list, analysis_type_list)\n",
    "\n",
    "analysis_type_list = [7]\n",
    "preprocessed_data_s2 = load_datsets(data_path, years_list, analysis_type_list)\n",
    "\n",
    "analysis_type_list = [8]\n",
    "preprocessed_data_s3 = load_datsets(data_path, years_list, analysis_type_list)\n",
    "\n",
    "analysis_type_list = [9]\n",
    "preprocessed_data_s4_noCov = load_datsets(data_path, years_list_noCov, analysis_type_list)\n",
    "\n",
    "analysis_type_list = [9]\n",
    "preprocessed_data_s4 = load_datsets(data_path, years_list, analysis_type_list)\n",
    "\n",
    "analysis_type_list = [10]\n",
    "preprocessed_data_s5 = load_datsets(data_path, years_list, analysis_type_list)"
   ]
  },
  {
   "cell_type": "code",
   "execution_count": null,
   "id": "45fa35e8-327f-4a9d-86f0-3b2ad773fc40",
   "metadata": {
    "tags": []
   },
   "outputs": [],
   "source": [
    "# years_list = [yr for yr in range (1990,2024)]\n",
    "\n",
    "# these are the years lists we use when regional_flag = regional and aircraft_flag = nonjets\n",
    "# years_list_s1 = [yr for yr in range (2004,2024)]\n",
    "# years_list_s5 = [yr for yr in range (2002,2024)]\n",
    "# years_list_s2 = [yr for yr in range (2002,2020)]\n",
    "# years_list_s3 = [yr for yr in range (2002,2020)]\n",
    "# years_list_s4 = [yr for yr in range (2002,2020)]\n",
    "\n",
    "# these are the years lists we use when regional_flag = regional and aircraft_flag = jetsandnonjets\n",
    "# years_list_s1 = [yr for yr in range (2004,2024)]\n",
    "# years_list_s5 = [yr for yr in range (2002,2024)] #starts in oct2002\n",
    "# years_list_s2 = [yr for yr in range (2002,2024)] #basically starts in oct2002\n",
    "# years_list_s3 = [yr for yr in range (2002,2024)]\n",
    "# years_list_s4 = [yr for yr in range (2002,2020)] # real one\n",
    "years_list_s4 = [yr for yr in range (2002,2024)]\n",
    "years_list_s5_noCov = [yr for yr in range (2002,2020)]\n",
    "\n",
    "\n",
    "# these are the years lists we use when regional_flag = regional and aircraft_flag = jets\n",
    "# years_list_s1 = [yr for yr in range (2004,2024)]\n",
    "# # years_list_s5 = [yr for yr in range (1990,2024)] #interesting, buncha zeroes\n",
    "# years_list_s2 = [yr for yr in range (2002,2024)] \n",
    "# years_list_s3 = [yr for yr in range (2002,2024)]\n",
    "years_list_s4 = [yr for yr in range (1990,2024)] #interesting, buncha zeroes\n",
    "years_list_s4_noCov = [yr for yr in range (1990,2020)]"
   ]
  },
  {
   "cell_type": "code",
   "execution_count": null,
   "id": "726976af-6764-4314-8e69-268f7292be64",
   "metadata": {
    "tags": []
   },
   "outputs": [],
   "source": [
    "preprocessed_data_s4.head(20)"
   ]
  },
  {
   "cell_type": "code",
   "execution_count": null,
   "id": "a5911dfe-bcfd-41f7-b280-07cde97732bf",
   "metadata": {
    "tags": []
   },
   "outputs": [],
   "source": [
    "preprocessed_data_s4_noCov.head(20)"
   ]
  },
  {
   "cell_type": "code",
   "execution_count": null,
   "id": "288b66a6-b14d-4a95-9569-1f1a7f39b22a",
   "metadata": {
    "tags": []
   },
   "outputs": [],
   "source": [
    "preprocessed_data_s5.tail(3)"
   ]
  },
  {
   "cell_type": "code",
   "execution_count": null,
   "id": "3e1870ac-438d-4460-a6e4-9710b6af25f4",
   "metadata": {
    "tags": []
   },
   "outputs": [],
   "source": [
    "preprocessed_data_s5.head(20)"
   ]
  },
  {
   "cell_type": "code",
   "execution_count": null,
   "id": "cd467294-0e38-488d-9b27-a5012f088168",
   "metadata": {
    "tags": []
   },
   "outputs": [],
   "source": [
    "preprocessed_data_s1_noCov.head(3)\n",
    "preprocessed_data_s1_noCov.head(20)\n",
    "preprocessed_data_s1_noCov.tail(3)"
   ]
  },
  {
   "cell_type": "code",
   "execution_count": null,
   "id": "ffe3612e-743a-4de6-ac28-2b27248d48c3",
   "metadata": {},
   "outputs": [],
   "source": []
  },
  {
   "cell_type": "code",
   "execution_count": null,
   "id": "1e45e307-9991-4314-8e16-3938c7d9113e",
   "metadata": {
    "tags": []
   },
   "outputs": [],
   "source": [
    "## below code makes yearly aggregations\n",
    "# preprocessed_data.drop(columns=['level_1', 'level_0'],axis=1,inplace=True)\n",
    "# # preprocessed_data = preprocessed_data.rename(columns = {'level_0':'year'})\n",
    "# # my_testing[\"year\"] = my_testing['ds'].dt.year #tagged this cuz level_0 column takes care of it\n",
    "# preprocessed_data = preprocessed_data.groupby(['year', 'origin', 'dest'], as_index=True, group_keys=True)['y', 'num flights' ].agg(['sum','count'])\n",
    "# preprocessed_data.reset_index(inplace=True)\n",
    "# preprocessed_data.columns= ['_'.join(col) for col in preprocessed_data.columns.values]\n",
    "# preprocessed_data.drop(['origin_', 'dest_', 'y_count', 'num flights_count','num flights_sum'], axis=1, inplace = True)\n",
    "# preprocessed_data.rename(columns={'y_sum': 'y', 'year_':'ds' }, inplace = True)\n",
    "# preprocessed_data.head(3)"
   ]
  },
  {
   "cell_type": "code",
   "execution_count": null,
   "id": "3ce7ea22-3bcc-4f3b-86ab-6d6431a248c0",
   "metadata": {
    "tags": []
   },
   "outputs": [],
   "source": [
    "forplot_s4 = preprocessed_data_s4.copy(deep=True)\n",
    "forplot_s4 = preprocessed_data_s4[['ds', 'y']]\n",
    "forplot_s4.index = pd.to_datetime(forplot_s4['ds'],format='%Y-%m-%d')\n",
    "forplot_s4.drop(columns=['ds'],inplace=True)\n",
    "forplot_s4.sort_index(inplace=True)\n",
    "forplot_s4\n",
    "forplot_s4.plot()"
   ]
  },
  {
   "cell_type": "code",
   "execution_count": null,
   "id": "51082231-6705-4a0c-94db-f3a18b1a519a",
   "metadata": {
    "tags": []
   },
   "outputs": [],
   "source": [
    "forplot_s1_noCov = preprocessed_data_s1_noCov.copy(deep=True)\n",
    "forplot_s1_noCov = preprocessed_data_s1_noCov[['ds', 'y']]\n",
    "forplot_s1_noCov.index = pd.to_datetime(forplot_s1_noCov['ds'],format='%Y-%m-%d')\n",
    "forplot_s1_noCov.drop(columns=['ds'],inplace=True)\n",
    "forplot_s1_noCov.sort_index(inplace=True)\n",
    "forplot_s1_noCov\n",
    "forplot_s1_noCov.plot()"
   ]
  },
  {
   "cell_type": "code",
   "execution_count": null,
   "id": "cd1b8684-3dd8-4b94-a22d-1a4845849f98",
   "metadata": {
    "tags": []
   },
   "outputs": [],
   "source": [
    "decompose_data_s1 = seasonal_decompose(forplot_s1, model=\"additive\", period=12)\n",
    "decompose_data_s1.plot();"
   ]
  },
  {
   "cell_type": "code",
   "execution_count": null,
   "id": "b3b22b2f-d17a-49e4-b007-309cff85764b",
   "metadata": {
    "tags": []
   },
   "outputs": [],
   "source": [
    "decompose_data_s1_noCov = seasonal_decompose(forplot_s1_noCov, model=\"additive\", period=12)\n",
    "decompose_data_s1_noCov.plot();"
   ]
  },
  {
   "cell_type": "code",
   "execution_count": null,
   "id": "4c6aa73b-9651-44ac-b51d-36b829805859",
   "metadata": {
    "tags": []
   },
   "outputs": [],
   "source": [
    "# plt.plot(decompose_data_s2.seasonal[:12])"
   ]
  },
  {
   "cell_type": "code",
   "execution_count": null,
   "id": "c008fa6f-d709-40d8-bc1e-f0d3852ac452",
   "metadata": {
    "tags": []
   },
   "outputs": [],
   "source": [
    "# plt.plot(decompose_data_s2.trend)"
   ]
  },
  {
   "cell_type": "code",
   "execution_count": null,
   "id": "49a986da-fd35-4210-8b61-45eea238ee95",
   "metadata": {
    "tags": []
   },
   "outputs": [],
   "source": [
    "def forecast_future(future_samples_count, df, growth = 'linear'):\n",
    "    model = Prophet(growth=growth)\n",
    "    model.fit(df)\n",
    "    \n",
    "    future = model.make_future_dataframe(periods=future_samples_count, freq='m')\n",
    "\n",
    "    forecast = model.predict(future)\n",
    "    return forecast, model"
   ]
  },
  {
   "cell_type": "code",
   "execution_count": null,
   "id": "c380ee10-44e3-470a-89e8-9b29fd1fcc94",
   "metadata": {
    "tags": []
   },
   "outputs": [],
   "source": [
    "forplot_s4=forplot_s4.reset_index()\n",
    "forplot_s4"
   ]
  },
  {
   "cell_type": "code",
   "execution_count": null,
   "id": "c2156e22-6cf3-4ade-b74d-b25821755163",
   "metadata": {
    "tags": []
   },
   "outputs": [],
   "source": [
    "forplot_s1_noCov=forplot_s1_noCov.reset_index()\n",
    "forplot_s1_noCov"
   ]
  },
  {
   "cell_type": "code",
   "execution_count": null,
   "id": "36a73aee-b268-474a-ae58-58fc69e7c229",
   "metadata": {
    "tags": []
   },
   "outputs": [],
   "source": [
    "future_samples_count= 120 # as of 2023, u will either input 168 months or 120 months for future_samples_count depending on ur last ds val printed above in order to forecast 10 yrs in the future\n",
    "#if last ds val is in 2019, use 168 months to get to 2033. if last ds val is in 2023 then obviously use 120 months\n",
    "forecasted_df_s4, fc_model_s4 = forecast_future(future_samples_count, forplot_s4)"
   ]
  },
  {
   "cell_type": "code",
   "execution_count": null,
   "id": "a4c4d546-2af3-456d-aad9-6f10d0c39fd9",
   "metadata": {
    "tags": []
   },
   "outputs": [],
   "source": [
    "future_samples_count= 168 # as of 2023, u will either input 168 months or 120 months for future_samples_count depending on ur last ds val printed above in order to forecast 10 yrs in the future\n",
    "#if last ds val is in 2019, use 168 months to get to 2033. if last ds val is in 2023 then obviously use 120 months\n",
    "forecasted_df_s1_noCov, fc_model_s1_noCov = forecast_future(future_samples_count, forplot_s1_noCov)"
   ]
  },
  {
   "cell_type": "code",
   "execution_count": null,
   "id": "5a126a2d-95d2-4479-b3c4-5785038fd0f3",
   "metadata": {
    "tags": []
   },
   "outputs": [],
   "source": [
    "#this is not trend and seasonality; this is the forecast\n",
    "plot_plotly(fc_model_s1_noCov, forecasted_df_s1_noCov)"
   ]
  },
  {
   "cell_type": "code",
   "execution_count": null,
   "id": "0e3eb05e-48ea-4f47-b84c-0cd9ee85e028",
   "metadata": {
    "tags": []
   },
   "outputs": [],
   "source": [
    "#this is not trend and seasonality; this is the forecast\n",
    "plot_plotly(fc_model_s4, forecasted_df_s4)"
   ]
  },
  {
   "cell_type": "code",
   "execution_count": null,
   "id": "898c71d2-3dbe-4959-adf6-373e3c534518",
   "metadata": {
    "tags": []
   },
   "outputs": [],
   "source": [
    "fig2 = fc_model_s4.plot_components(forecasted_df_s4,\n",
    "                                 uncertainty = True,  plot_cap = True\n",
    "                                 , weekly_start = 0,  yearly_start = 0)\n",
    "\n",
    "fig2 = fc_model_s1_noCov.plot_components(forecasted_df_s1_noCov,\n",
    "                                 uncertainty = True,  plot_cap = True\n",
    "                                 , weekly_start = 0,  yearly_start = 0)"
   ]
  },
  {
   "cell_type": "markdown",
   "id": "b934e27e-7f5e-42d5-8305-36adf9f29b01",
   "metadata": {},
   "source": [
    "# Manual Decomposition of trend and seasonality\n",
    "### We already have functions that do the breakdown above, this is just for demo purposes/ to explain what's being done"
   ]
  },
  {
   "cell_type": "code",
   "execution_count": null,
   "id": "a14b04a3-4604-4e49-9035-4f5b4065295e",
   "metadata": {
    "tags": []
   },
   "outputs": [],
   "source": [
    "reglist = forplot['y'].values.tolist()\n",
    "reglist[:5]\n",
    "\n",
    "seasonality_length = 12\n",
    "\n",
    "def compute_trend(time_series_data_values, seasonality_length):\n",
    "    trend_length = len(time_series_data_values)-seasonality_length+1\n",
    "    trend = []\n",
    "    for crtgroup in range(trend_length):\n",
    "        crtavg = sum(time_series_data_values[:seasonality_length]) / seasonality_length\n",
    "        trend.append(crtavg)\n",
    "        time_series_data_values.pop(0)\n",
    "    return trend\n",
    "  \n",
    "trend = compute_trend(reglist.copy(), seasonality_length)    \n",
    "print(trend)\n",
    "print(len(trend))\n",
    "print(reglist)"
   ]
  },
  {
   "cell_type": "code",
   "execution_count": null,
   "id": "4e38528b-e4c7-4bf4-80bd-2fe3e25a2d4c",
   "metadata": {
    "tags": []
   },
   "outputs": [],
   "source": [
    "if (seasonality_length % 2) == 0: #even seasonality_length\n",
    "    numdatestofillatstart = math.floor(seasonality_length/2) -1\n",
    "    numdatestofillatend = math.floor(seasonality_length/2) \n",
    "else: #seasonality_length is odd\n",
    "    numdatestofillatstart = math.floor((seasonality_length-1)/2) \n",
    "    numdatestofillatend = math.floor((seasonality_length-1)/2) \n"
   ]
  },
  {
   "cell_type": "code",
   "execution_count": null,
   "id": "492e980b-5cae-43cb-bcab-965924ea3748",
   "metadata": {
    "tags": []
   },
   "outputs": [],
   "source": [
    "extendedtrend = trend.copy()\n",
    "extendedtrend = [trend[0]] * numdatestofillatstart + extendedtrend\n",
    "extendedtrend = extendedtrend+ [trend[-1]] * numdatestofillatend\n",
    "\n",
    "print(trend)\n",
    "print(extendedtrend)"
   ]
  },
  {
   "cell_type": "code",
   "execution_count": null,
   "id": "6bdbbcbf-c1fa-440d-9f7d-34c96586f3e4",
   "metadata": {
    "tags": []
   },
   "outputs": [],
   "source": [
    "# plot trend\n",
    "x_list = list(forplot.index.values)\n",
    "plt.plot(x_list, extendedtrend, label='trend')\n",
    "plt.legend()\n",
    "plt.xticks(rotation = 45)\n",
    "plt.show()"
   ]
  },
  {
   "cell_type": "code",
   "execution_count": null,
   "id": "3da24a0b-4cc3-49e1-bd5a-2b0881f90211",
   "metadata": {
    "tags": []
   },
   "outputs": [],
   "source": [
    "detrended = [element1 - element2 for (element1, element2) in zip(reglist, extendedtrend)]\n",
    "\n",
    "print(detrended)\n",
    "print(len(detrended))   "
   ]
  },
  {
   "cell_type": "code",
   "execution_count": null,
   "id": "a4730612-322c-4beb-a857-1e6b5d2852b7",
   "metadata": {
    "tags": []
   },
   "outputs": [],
   "source": [
    "# plot observed data, computed trend, and detrended data\n",
    "plt.plot(x_list, reglist, label='observed')\n",
    "plt.plot(x_list, extendedtrend, label='trend')\n",
    "plt.plot(x_list, detrended, label='detrended')\n",
    "plt.xticks(rotation = 45)\n",
    "plt.legend()\n",
    "plt.show()"
   ]
  },
  {
   "cell_type": "code",
   "execution_count": null,
   "id": "1595e29e-b17d-4b9a-a742-3767374473fb",
   "metadata": {
    "tags": []
   },
   "outputs": [],
   "source": [
    "def grouptogether(yourlist, step):\n",
    "    return [yourlist[index::step] for index in range(step)]\n",
    "seasonalitygroupings = grouptogether(detrended, seasonality_length)\n",
    "# print(seasonalitygroupings)\n",
    "\n",
    "seasonality = [sum(crtmonth) / seasonality_length for crtmonth in seasonalitygroupings]\n",
    "print(seasonality)\n",
    "# print(len(seasonality))"
   ]
  },
  {
   "cell_type": "code",
   "execution_count": null,
   "id": "e843008e-7042-4d09-8460-303c0e30f4c0",
   "metadata": {
    "tags": []
   },
   "outputs": [],
   "source": [
    "# plot seasonality (the seasonality_length=12 averages)\n",
    "plt.plot(x_list[:seasonality_length], seasonality, label='seasonality')\n",
    "plt.xticks(rotation = 45)\n",
    "plt.legend()\n",
    "plt.show()"
   ]
  },
  {
   "cell_type": "code",
   "execution_count": null,
   "id": "55682631-3784-45ae-bef3-74497afc9f10",
   "metadata": {
    "tags": []
   },
   "outputs": [],
   "source": [
    "reconstructeddata = [extendedtrend[i] + seasonality[i%seasonality_length] for i in range(len(extendedtrend))]\n",
    "print(reconstructeddata)\n",
    "\n",
    "residuals = [reglist[i] - reconstructeddata[i] for i in range(len(reglist))]\n",
    "print(residuals)"
   ]
  },
  {
   "cell_type": "code",
   "execution_count": null,
   "id": "440d2464-77cb-49a1-9d62-0b69cf9c2759",
   "metadata": {
    "tags": []
   },
   "outputs": [],
   "source": [
    "# plot the residuals\n",
    "plt.scatter(x_list, residuals, c =\"red\")\n",
    "plt.xticks(rotation = 45)\n",
    "plt.show()"
   ]
  }
 ],
 "metadata": {
  "kernelspec": {
   "display_name": "Python 3 (ipykernel)",
   "language": "python",
   "name": "python3"
  },
  "language_info": {
   "codemirror_mode": {
    "name": "ipython",
    "version": 3
   },
   "file_extension": ".py",
   "mimetype": "text/x-python",
   "name": "python",
   "nbconvert_exporter": "python",
   "pygments_lexer": "ipython3",
   "version": "3.7.17"
  }
 },
 "nbformat": 4,
 "nbformat_minor": 5
}
