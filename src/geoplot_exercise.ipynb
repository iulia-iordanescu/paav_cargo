{
 "cells": [
  {
   "cell_type": "code",
   "execution_count": null,
   "id": "f560c16f-91ba-4586-9817-078dead997be",
   "metadata": {
    "tags": []
   },
   "outputs": [],
   "source": [
    "import pandas as pd\n",
    "!pip install geopandas\n",
    "import geopandas as gpd\n",
    "import matplotlib.pyplot as plt\n",
    "import plotly.express as px"
   ]
  },
  {
   "cell_type": "code",
   "execution_count": null,
   "id": "3aff4ca4-4662-492c-b162-827409aaa256",
   "metadata": {
    "tags": []
   },
   "outputs": [],
   "source": [
    "# fake two column dataset for exercise: state name and percent increase\n",
    "pct_inc_fake = pd.read_csv('./../../../data/paav_cargo/geoplot_exercise_data/geoplot_exercise_data.csv')"
   ]
  },
  {
   "cell_type": "code",
   "execution_count": null,
   "id": "02e935b4-0c86-4776-a80c-88273fb6b546",
   "metadata": {
    "tags": []
   },
   "outputs": [],
   "source": [
    "pct_inc_fake"
   ]
  },
  {
   "cell_type": "code",
   "execution_count": null,
   "id": "dc36c25e-d8e6-463d-b004-7c2046214df7",
   "metadata": {
    "tags": []
   },
   "outputs": [],
   "source": [
    "abbr  = {'Alabama': 'AL',\n",
    "        'Alaska': 'AK',\n",
    "        'Arizona': 'AZ',\n",
    "        'Arkansas': 'AR',\n",
    "        'California': 'CA',\n",
    "        'Colorado': 'CO',\n",
    "        'Connecticut': 'CT',\n",
    "        'Delaware': 'DE',\n",
    "        'District of Columbia': 'DC',\n",
    "        'Florida': 'FL',\n",
    "        'Georgia': 'GA',\n",
    "        'Hawaii': 'HI',\n",
    "        'Idaho': 'ID',\n",
    "        'Illinois': 'IL',\n",
    "        'Indiana': 'IN',\n",
    "        'Iowa': 'IA',\n",
    "        'Kansas': 'KS',\n",
    "        'Kentucky': 'KY',\n",
    "        'Louisiana': 'LA',\n",
    "        'Maine': 'ME',\n",
    "        'Maryland': 'MD',\n",
    "        'Massachusetts': 'MA',\n",
    "        'Michigan': 'MI',\n",
    "        'Minnesota': 'MN',\n",
    "        'Mississippi': 'MS',\n",
    "        'Missouri': 'MO',\n",
    "        'Montana': 'MT',\n",
    "        'Nebraska': 'NE',\n",
    "        'Nevada': 'NV',\n",
    "        'New Hampshire': 'NH',\n",
    "        'New Jersey': 'NJ',\n",
    "        'New Mexico': 'NM',\n",
    "        'New York': 'NY',\n",
    "        'North Carolina': 'NC',\n",
    "        'North Dakota': 'ND',\n",
    "        'Ohio': 'OH',\n",
    "        'Oklahoma': 'OK',\n",
    "        'Oregon': 'OR',\n",
    "        'Pennsylvania': 'PA',\n",
    "        'Rhode Island': 'RI',\n",
    "        'South Carolina': 'SC',\n",
    "        'South Dakota': 'SD',\n",
    "        'Tennessee': 'TN',\n",
    "        'Texas': 'TX',\n",
    "        'Utah': 'UT',\n",
    "        'Vermont': 'VT',\n",
    "        'Virginia': 'VA',\n",
    "        'Washington': 'WA',\n",
    "        'West Virginia': 'WV',\n",
    "        'Wisconsin': 'WI',\n",
    "        'Wyoming': 'WY'}"
   ]
  },
  {
   "cell_type": "code",
   "execution_count": null,
   "id": "2df348bf-a36b-484e-8377-1dbcca6b5962",
   "metadata": {
    "tags": []
   },
   "outputs": [],
   "source": [
    "pct_inc_fake['abbr'] = pct_inc_fake['state name'].map(abbr)\n",
    "pct_inc_fake"
   ]
  },
  {
   "cell_type": "code",
   "execution_count": null,
   "id": "d3ada773-a79d-4b5c-a8a9-946c47a0a4ba",
   "metadata": {
    "tags": []
   },
   "outputs": [],
   "source": [
    "fig = px.choropleth(pct_inc_fake,\n",
    "                    locations='abbr',\n",
    "                    color=' percent increase',\n",
    "                    color_continuous_scale='spectral_r',\n",
    "                    hover_name='state name',\n",
    "                    locationmode='USA-states',\n",
    "                    labels={'Current Unemployment Rate':'Unemployment Rate %'},\n",
    "                    scope='usa')\n",
    "fig.show()"
   ]
  },
  {
   "cell_type": "code",
   "execution_count": null,
   "id": "fc8a6c08-8a4c-4f05-8fa3-d07a2bd4a9e3",
   "metadata": {
    "tags": []
   },
   "outputs": [],
   "source": [
    "#'./../../../data/paav_cargo/geoplot_exercise_data/geoplot_data_origin_analysis_4.csv'"
   ]
  },
  {
   "cell_type": "code",
   "execution_count": null,
   "id": "76c9aa3b-d659-4f2a-b621-95438fa1c3b6",
   "metadata": {
    "tags": []
   },
   "outputs": [],
   "source": [
    "old = pd.read_csv('./../../../data/paav_cargo/geoplot_exercise_data/geoplot_data_origin_analysis_4.csv')\n",
    "old"
   ]
  },
  {
   "cell_type": "code",
   "execution_count": null,
   "id": "4061103c-c296-4270-9ccc-0646936408ef",
   "metadata": {
    "tags": []
   },
   "outputs": [],
   "source": [
    "list_of_states_to_investigate = ['Arkansas', 'Connecticut', 'Delaware', 'Illinois', 'Massachusetts', 'Mississippi', 'Missouri', 'New Hampshire', 'Oklahoma', 'Rhode Island', 'Vermont', 'Virginia']    \n",
    "for crt_weird_state in list_of_states_to_investigate:\n",
    "    old.drop(old[old['origin'] == crt_weird_state].index,inplace=True)\n",
    "    \n",
    "old"
   ]
  },
  {
   "cell_type": "code",
   "execution_count": null,
   "id": "de293946-bc8a-4f72-97f3-87e520013cdf",
   "metadata": {
    "tags": []
   },
   "outputs": [],
   "source": [
    "old['pct_inc'].mean()\n",
    "#this is the value u need to assign to the weird states, assuming that ur calcs for the other states are true"
   ]
  },
  {
   "cell_type": "code",
   "execution_count": null,
   "id": "37885498-db97-4d50-bad8-8af7380c8520",
   "metadata": {
    "tags": []
   },
   "outputs": [],
   "source": [
    "all_states_origin_reg_nonjet = pd.read_csv('./../../../data/paav_cargo/geoplot_exercise_data/geoplot_data_origin_analysis_4_regional_nonjets.csv')\n",
    "all_states_origin_reg_nonjet"
   ]
  },
  {
   "cell_type": "code",
   "execution_count": null,
   "id": "4c5891d6-1e9a-444e-a013-c4fd77e13afd",
   "metadata": {
    "tags": []
   },
   "outputs": [],
   "source": [
    "abbr  = {'Alabama': 'AL',\n",
    "        'Alaska': 'AK',\n",
    "        'Arizona': 'AZ',\n",
    "        'California': 'CA',\n",
    "        'Colorado': 'CO',\n",
    "        'Connecticut': 'CT',\n",
    "        'District of Columbia': 'DC',\n",
    "        'Florida': 'FL',\n",
    "        'Georgia': 'GA',\n",
    "        'Hawaii': 'HI',\n",
    "        'Idaho': 'ID',\n",
    "        'Indiana': 'IN',\n",
    "        'Iowa': 'IA',\n",
    "        'Kentucky': 'KY',\n",
    "        'Louisiana': 'LA',\n",
    "        'Maine': 'ME',\n",
    "        'Maryland': 'MD',\n",
    "        'Michigan': 'MI',\n",
    "        'Minnesota': 'MN',\n",
    "        'Montana': 'MT',\n",
    "        'Nebraska': 'NE',\n",
    "        'Nevada': 'NV',\n",
    "        'New Jersey': 'NJ',\n",
    "        'New Mexico': 'NM',\n",
    "        'New York': 'NY',\n",
    "        'North Carolina': 'NC',\n",
    "        'North Dakota': 'ND',\n",
    "        'Ohio': 'OH',\n",
    "        'Oregon': 'OR',\n",
    "        'Pennsylvania': 'PA',\n",
    "        'South Carolina': 'SC',\n",
    "        'South Dakota': 'SD',\n",
    "        'Tennessee': 'TN',\n",
    "        'Texas': 'TX',\n",
    "        'Utah': 'UT',\n",
    "        'Washington': 'WA',\n",
    "        'West Virginia': 'WV',\n",
    "        'Wisconsin': 'WI',\n",
    "        'Wyoming': 'WY'}"
   ]
  },
  {
   "cell_type": "code",
   "execution_count": null,
   "id": "1980501a-afa6-4f94-98b5-3fd6e4a8bbd1",
   "metadata": {
    "tags": []
   },
   "outputs": [],
   "source": [
    "all_states_origin_reg_nonjet['abbr'] = all_states_origin_reg_nonjet['origin'].map(abbr)\n",
    "all_states_origin_reg_nonjet"
   ]
  },
  {
   "cell_type": "code",
   "execution_count": null,
   "id": "5c39c4ac-a075-4a78-9c2c-68e391a8f7e1",
   "metadata": {
    "tags": []
   },
   "outputs": [],
   "source": [
    "plot_df = all_states_origin_reg_nonjet\n",
    "plot_colname = ' pct_inc'\n",
    "\n",
    "max_val = plot_df[plot_colname].max()\n",
    "min_val=plot_df[plot_colname].min()\n",
    "range_val = max_val-min_val\n",
    "\n",
    "fig = px.choropleth(plot_df,\n",
    "                    locations='abbr',\n",
    "                    color=plot_colname,\n",
    "                    # color_continuous_scale='spectral_r',\n",
    "                    color_continuous_scale=[[((min_val-min_val)/range_val), 'rgb(0, 0, 255)'] # blue 'rgb(0, 0, 0)'] #white 'rgb(255, 255, 0)'] #yellow\n",
    "                                            , [((0-min_val)/range_val), 'rgb(0, 255, 255)'] # green+blue\n",
    "                                            , [((1-min_val)/range_val),  'rgb(255, 255, 0)'] # red+green = yellow'rgb(0, 255, 255)'] # green\n",
    "                                            #, [(((20e6+1)-min_val)/range_val), 'rgb(255, 255, 0)'] # red+green = yellow\n",
    "                                            , [((max_val-min_val)/range_val), 'rgb(255, 0, 0)']], #red                    hover_name='origin',\n",
    "                    locationmode='USA-states',\n",
    "                    labels={'Current Unemployment Rate':'Unemployment Rate %'},\n",
    "                    scope='usa')\n",
    "fig.show()"
   ]
  },
  {
   "cell_type": "code",
   "execution_count": null,
   "id": "94be69a1-9be3-4c2a-9330-67014a2bb2a8",
   "metadata": {},
   "outputs": [],
   "source": [
    "if 0:\n",
    "    experimenting = all_states_origin_reg_nonjet.copy(deep=True)\n",
    "    experimenting.drop(experimenting[experimenting['origin'] == 'Iowa'].index,inplace=True)\n",
    "    experimenting.drop(experimenting[experimenting['origin'] == 'Ohio'].index,inplace=True)\n",
    "\n",
    "    fig = px.choropleth((experimenting),\n",
    "                        locations='abbr',\n",
    "                        color=' pct_inc',\n",
    "                        color_continuous_scale='spectral_r',\n",
    "                        hover_name='origin',\n",
    "                        locationmode='USA-states',\n",
    "                        labels={'Current Unemployment Rate':'Unemployment Rate %'},\n",
    "                        scope='usa')\n",
    "    fig.show()"
   ]
  },
  {
   "cell_type": "code",
   "execution_count": null,
   "id": "aeb4a5e9-e4bb-4954-a375-0561cbdef0cf",
   "metadata": {
    "tags": []
   },
   "outputs": [],
   "source": [
    "plot_df = all_states_origin_reg_nonjet\n",
    "plot_colname = ' abs_yhat'\n",
    "\n",
    "max_val = plot_df[plot_colname].max()\n",
    "min_val=plot_df[plot_colname].min()\n",
    "range_val = max_val-min_val\n",
    "\n",
    "fig = px.choropleth(plot_df,\n",
    "                    locations='abbr',\n",
    "                    color=plot_colname,\n",
    "                    # color_continuous_scale='spectral_r',\n",
    "                    color_continuous_scale=[[((min_val-min_val)/range_val), 'rgb(0, 0, 255)'] # blue 'rgb(0, 0, 0)'] #white 'rgb(255, 255, 0)'] #yellow\n",
    "                                            , [((0-min_val)/range_val), 'rgb(0, 255, 255)'] # green+blue\n",
    "                                            , [((1-min_val)/range_val),  'rgb(255, 255, 0)'] # red+green = yellow'rgb(0, 255, 255)'] # green\n",
    "                                            #, [(((20e6+1)-min_val)/range_val), 'rgb(255, 255, 0)'] # red+green = yellow\n",
    "                                            , [((max_val-min_val)/range_val), 'rgb(255, 0, 0)']], #red                    hover_name='origin',\n",
    "                    locationmode='USA-states',\n",
    "                    labels={'Current Unemployment Rate':'Unemployment Rate %'},\n",
    "                    scope='usa')\n",
    "fig.show()"
   ]
  },
  {
   "cell_type": "code",
   "execution_count": null,
   "id": "c7929384-4f6f-4e03-b6a0-c63c7e947554",
   "metadata": {
    "tags": []
   },
   "outputs": [],
   "source": [
    "# fig = px.choropleth(all_states_origin_reg_nonjet,\n",
    "#                     locations='abbr',\n",
    "#                     color=' crt_abs_y',\n",
    "#                     color_continuous_scale='spectral_r',\n",
    "#                     hover_name='origin',\n",
    "#                     locationmode='USA-states',\n",
    "#                     labels={'Current Unemployment Rate':'Unemployment Rate %'},\n",
    "#                     scope='usa')\n",
    "# fig.show()\n",
    "\n",
    "plot_df = all_states_origin_reg_nonjet\n",
    "plot_colname = ' crt_abs_y'\n",
    "\n",
    "max_val = plot_df[plot_colname].max()\n",
    "min_val=plot_df[plot_colname].min()\n",
    "\n",
    "range_val = max_val\n",
    "print(min_val, max_val, range_val)\n",
    "\n",
    "fig = px.choropleth(plot_df,\n",
    "                    locations='abbr',\n",
    "                    color=plot_colname,\n",
    "                    # color_continuous_scale='spectral_r',\n",
    "                    color_continuous_scale=[  [((0)/range_val), 'rgb(0, 255, 255)'] # green+blue\n",
    "                                            , [((min_val)/range_val),  'rgb(255, 255, 0)'] # red+green = yellow\n",
    "                                            #, [(((20e6+1)-min_val)/range_val), 'rgb(255, 255, 0)'] # red+green = yellow\n",
    "                                            , [((max_val)/range_val), 'rgb(255, 0, 0)']], #red                    hover_name='origin',\n",
    "                    locationmode='USA-states',\n",
    "                    labels={'Current Unemployment Rate':'Unemployment Rate %'},\n",
    "                    scope='usa')\n",
    "fig.show()"
   ]
  },
  {
   "cell_type": "code",
   "execution_count": null,
   "id": "9062ca2a-d1f6-4040-b40a-9da8ae038d96",
   "metadata": {
    "tags": []
   },
   "outputs": [],
   "source": [
    "# fig = px.choropleth(all_states_origin_reg_nonjet,\n",
    "#                     locations='abbr',\n",
    "#                     color=' mape',\n",
    "#                     color_continuous_scale='spectral_r',\n",
    "#                     hover_name='origin',\n",
    "#                     locationmode='USA-states',\n",
    "#                     labels={'Current Unemployment Rate':'Unemployment Rate %'},\n",
    "#                     scope='usa')\n",
    "# fig.show()\n",
    "\n",
    "plot_df = all_states_origin_reg_nonjet\n",
    "plot_colname = ' mape'\n",
    "\n",
    "max_val = plot_df[plot_colname].max()\n",
    "min_val=plot_df[plot_colname].min()\n",
    "\n",
    "range_val = max_val\n",
    "print(min_val, max_val, range_val)\n",
    "\n",
    "fig = px.choropleth(plot_df,\n",
    "                    locations='abbr',\n",
    "                    color=plot_colname,\n",
    "                    # color_continuous_scale='spectral_r',\n",
    "                    color_continuous_scale=[  [((0)/range_val), 'rgb(0, 255, 255)'] # green+blue\n",
    "                                            , [((min_val)/range_val),  'rgb(255, 255, 0)'] # red+green = yellow\n",
    "                                            #, [(((20e6+1)-min_val)/range_val), 'rgb(255, 255, 0)'] # red+green = yellow\n",
    "                                            , [((max_val)/range_val), 'rgb(255, 0, 0)']], #red                    hover_name='origin',\n",
    "                    locationmode='USA-states',\n",
    "                    labels={'Current Unemployment Rate':'Unemployment Rate %'},\n",
    "                    scope='usa')\n",
    "fig.show()"
   ]
  },
  {
   "cell_type": "code",
   "execution_count": null,
   "id": "72ae1f3c-a1e2-4704-8a26-af20af54cd6c",
   "metadata": {
    "tags": []
   },
   "outputs": [],
   "source": [
    "if 0:\n",
    "    experimenting2 = all_states_origin_reg_nonjet.copy(deep=True)\n",
    "    experimenting2.drop(experimenting2[experimenting2['origin'] == 'Kentucky'].index,inplace=True)\n",
    "    experimenting2.drop(experimenting2[experimenting2['origin'] == 'Ohio'].index,inplace=True)\n",
    "    experimenting2.drop(experimenting2[experimenting2['origin'] == 'West Virginia'].index,inplace=True)\n",
    "\n",
    "\n",
    "    fig = px.choropleth(experimenting2,\n",
    "                        locations='abbr',\n",
    "                        color=' mape',\n",
    "                        color_continuous_scale='spectral_r',\n",
    "                        hover_name='origin',\n",
    "                        locationmode='USA-states',\n",
    "                        labels={'Current Unemployment Rate':'Unemployment Rate %'},\n",
    "                        scope='usa')\n",
    "    fig.show()"
   ]
  },
  {
   "cell_type": "code",
   "execution_count": null,
   "id": "4bfb6364-d976-401b-8bc5-e3c46a6846e4",
   "metadata": {
    "tags": []
   },
   "outputs": [],
   "source": [
    "all_states_origin_reg_nonjetsandjets = pd.read_csv('./../../../data/paav_cargo/geoplot_exercise_data/geoplot_data_origin_analysis_4_regional_jetsandnonjets.csv')\n",
    "all_states_origin_reg_nonjetsandjets"
   ]
  },
  {
   "cell_type": "code",
   "execution_count": null,
   "id": "83e2e7db-542d-4ae9-9a58-b2fdec5a4e73",
   "metadata": {
    "tags": []
   },
   "outputs": [],
   "source": [
    "abbr  = {'Alabama': 'AL',\n",
    "        'Alaska': 'AK',\n",
    "        'Arizona': 'AZ',\n",
    "        'Arkansas': 'AR',\n",
    "        'California': 'CA',\n",
    "        'Colorado': 'CO',\n",
    "        'Connecticut': 'CT',\n",
    "        'District of Columbia': 'DC',\n",
    "        'Florida': 'FL',\n",
    "        'Georgia': 'GA',\n",
    "        'Hawaii': 'HI',\n",
    "        'Idaho': 'ID',\n",
    "        'Illinois': 'IL',\n",
    "        'Indiana': 'IN',\n",
    "        'Iowa': 'IA',\n",
    "        'Kansas': 'KS',\n",
    "        'Kentucky': 'KY',\n",
    "        'Louisiana': 'LA',\n",
    "        'Maine': 'ME',\n",
    "        'Maryland': 'MD',\n",
    "        'Massachusetts': 'MA',\n",
    "        'Michigan': 'MI',\n",
    "        'Minnesota': 'MN',\n",
    "        'Mississippi': 'MS',\n",
    "        'Missouri': 'MO',\n",
    "        'Montana': 'MT',\n",
    "        'Nebraska': 'NE',\n",
    "        'Nevada': 'NV',\n",
    "        'New Hampshire': 'NH',\n",
    "        'New Jersey': 'NJ',\n",
    "        'New Mexico': 'NM',\n",
    "        'New York': 'NY',\n",
    "        'North Carolina': 'NC',\n",
    "        'North Dakota': 'ND',\n",
    "        'Ohio': 'OH',\n",
    "        'Oklahoma': 'OK',\n",
    "        'Oregon': 'OR',\n",
    "        'Pennsylvania': 'PA',\n",
    "        'Rhode Island': 'RI',\n",
    "        'South Carolina': 'SC',\n",
    "        'South Dakota': 'SD',\n",
    "        'Tennessee': 'TN',\n",
    "        'Texas': 'TX',\n",
    "        'Utah': 'UT',\n",
    "        'Vermont': 'VT',\n",
    "        'Virginia': 'VA',\n",
    "        'Washington': 'WA',\n",
    "        'West Virginia': 'WV',\n",
    "        'Wisconsin': 'WI',\n",
    "        'Wyoming': 'WY'}"
   ]
  },
  {
   "cell_type": "code",
   "execution_count": null,
   "id": "e6354703-a83d-4547-b23a-45fd72a3fbe5",
   "metadata": {
    "tags": []
   },
   "outputs": [],
   "source": [
    "all_states_origin_reg_nonjetsandjets['abbr'] = all_states_origin_reg_nonjetsandjets['origin'].map(abbr)\n",
    "all_states_origin_reg_nonjetsandjets"
   ]
  },
  {
   "cell_type": "code",
   "execution_count": null,
   "id": "92c5eb2a-5b49-4580-bd2c-62253b66f3d7",
   "metadata": {
    "tags": []
   },
   "outputs": [],
   "source": [
    "# fig = px.choropleth(all_states_origin_reg_nonjetsandjets,\n",
    "#                     locations='abbr',\n",
    "#                     color='pct_inc',\n",
    "#                     color_continuous_scale='spectral_r',\n",
    "#                     hover_name='origin',\n",
    "#                     locationmode='USA-states',\n",
    "#                     labels={'Current Unemployment Rate':'Unemployment Rate %'},\n",
    "#                     scope='usa')\n",
    "# fig.show()\n",
    "\n",
    "plot_df = all_states_origin_reg_nonjetsandjets\n",
    "plot_colname = 'pct_inc'\n",
    "\n",
    "max_val = plot_df[plot_colname].max()\n",
    "min_val=plot_df[plot_colname].min()\n",
    "range_val = max_val-min_val\n",
    "\n",
    "fig = px.choropleth(plot_df,\n",
    "                    locations='abbr',\n",
    "                    color=plot_colname,\n",
    "                    # color_continuous_scale='spectral_r',\n",
    "                    color_continuous_scale=[[((min_val-min_val)/range_val), 'rgb(0, 0, 255)'] # blue 'rgb(0, 0, 0)'] #white 'rgb(255, 255, 0)'] #yellow\n",
    "                                            , [((0-min_val)/range_val), 'rgb(0, 255, 255)'] # green+blue\n",
    "                                            , [((1-min_val)/range_val),  'rgb(255, 255, 0)'] # red+green = yellow'rgb(0, 255, 255)'] # green\n",
    "                                            #, [(((20e6+1)-min_val)/range_val), 'rgb(255, 255, 0)'] # red+green = yellow\n",
    "                                            , [((max_val-min_val)/range_val), 'rgb(255, 0, 0)']], #red                    hover_name='origin',\n",
    "                    locationmode='USA-states',\n",
    "                    labels={'Current Unemployment Rate':'Unemployment Rate %'},\n",
    "                    scope='usa')\n",
    "fig.show()"
   ]
  },
  {
   "cell_type": "code",
   "execution_count": null,
   "id": "a0cc6a4f-a810-4679-90ca-cda141476534",
   "metadata": {
    "tags": []
   },
   "outputs": [],
   "source": [
    "if 0:\n",
    "    experimenting3 = all_states_origin_reg_nonjetsandjets.copy(deep=True)\n",
    "    experimenting3.drop(experimenting3[experimenting3['origin'] == 'Maine'].index,inplace=True)\n",
    "    experimenting3.drop(experimenting3[experimenting3['origin'] == 'Ohio'].index,inplace=True)\n",
    "    experimenting3.drop(experimenting3[experimenting3['origin'] == 'Rhode Island'].index,inplace=True)\n",
    "\n",
    "\n",
    "    fig = px.choropleth(experimenting3,\n",
    "                        locations='abbr',\n",
    "                        color='pct_inc',\n",
    "                        color_continuous_scale='spectral_r',\n",
    "                        hover_name='origin',\n",
    "                        locationmode='USA-states',\n",
    "                        labels={'Current Unemployment Rate':'Unemployment Rate %'},\n",
    "                        scope='usa')\n",
    "    fig.show()"
   ]
  },
  {
   "cell_type": "code",
   "execution_count": null,
   "id": "4263b857-11b3-4bda-9168-4f2f0ca484b0",
   "metadata": {
    "tags": []
   },
   "outputs": [],
   "source": [
    "plot_df = all_states_origin_reg_nonjetsandjets\n",
    "plot_colname = 'abs_yhat'\n",
    "\n",
    "max_val = plot_df[plot_colname].max()\n",
    "min_val=plot_df[plot_colname].min()\n",
    "range_val = max_val-min_val\n",
    "\n",
    "fig = px.choropleth(plot_df,\n",
    "                    locations='abbr',\n",
    "                    color=plot_colname,\n",
    "                    # color_continuous_scale='spectral_r',\n",
    "                    color_continuous_scale=[[((min_val-min_val)/range_val), 'rgb(0, 0, 255)'] # blue 'rgb(0, 0, 0)'] #white 'rgb(255, 255, 0)'] #yellow\n",
    "                                            , [((0-min_val)/range_val), 'rgb(0, 255, 255)'] # green+blue\n",
    "                                            , [((1-min_val)/range_val),  'rgb(255, 255, 0)'] # red+green = yellow'rgb(0, 255, 255)'] # green\n",
    "                                            #, [(((20e6+1)-min_val)/range_val), 'rgb(255, 255, 0)'] # red+green = yellow\n",
    "                                            , [((max_val-min_val)/range_val), 'rgb(255, 0, 0)']], #red                    hover_name='origin',\n",
    "                    locationmode='USA-states',\n",
    "                    labels={'Current Unemployment Rate':'Unemployment Rate %'},\n",
    "                    scope='usa')\n",
    "fig.show()"
   ]
  },
  {
   "cell_type": "code",
   "execution_count": null,
   "id": "5e372fec-0b3a-4354-9359-a2be5258d907",
   "metadata": {
    "tags": []
   },
   "outputs": [],
   "source": [
    "if 0:\n",
    "    experimenting4 = all_states_origin_reg_nonjetsandjets.copy(deep=True)\n",
    "    experimenting4.drop(experimenting4[experimenting4['origin'] == 'Kentucky'].index,inplace=True)\n",
    "    experimenting4.drop(experimenting4[experimenting4['origin'] == 'Tennessee'].index,inplace=True)\n",
    "    experimenting4.drop(experimenting4[experimenting4['origin'] == 'Ohio'].index,inplace=True)\n",
    "\n",
    "\n",
    "    fig = px.choropleth(experimenting4,\n",
    "                        locations='abbr',\n",
    "                        color='abs_yhat',\n",
    "                        color_continuous_scale='spectral_r',\n",
    "                        hover_name='origin',\n",
    "                        locationmode='USA-states',\n",
    "                        labels={'Current Unemployment Rate':'Unemployment Rate %'},\n",
    "                        scope='usa')\n",
    "    fig.show()"
   ]
  },
  {
   "cell_type": "code",
   "execution_count": null,
   "id": "e4e16763-6372-46f4-bd82-f64ddd728a9b",
   "metadata": {
    "tags": []
   },
   "outputs": [],
   "source": [
    "# fig = px.choropleth(all_states_origin_reg_nonjetsandjets,\n",
    "#                     locations='abbr',\n",
    "#                     color='crt_abs_y',\n",
    "#                     color_continuous_scale='spectral_r',\n",
    "#                     hover_name='origin',\n",
    "#                     locationmode='USA-states',\n",
    "#                     labels={'Current Unemployment Rate':'Unemployment Rate %'},\n",
    "#                     scope='usa')\n",
    "# fig.show()\n",
    "\n",
    "plot_df = all_states_origin_reg_nonjetsandjets\n",
    "plot_colname = 'crt_abs_y'\n",
    "\n",
    "max_val = plot_df[plot_colname].max()\n",
    "min_val=plot_df[plot_colname].min()\n",
    "\n",
    "range_val = max_val\n",
    "print(min_val, max_val, range_val)\n",
    "\n",
    "fig = px.choropleth(plot_df,\n",
    "                    locations='abbr',\n",
    "                    color=plot_colname,\n",
    "                    # color_continuous_scale='spectral_r',\n",
    "                    color_continuous_scale=[  [((0)/range_val), 'rgb(0, 255, 255)'] # green+blue\n",
    "                                            , [((min_val)/range_val),  'rgb(255, 255, 0)'] # red+green = yellow\n",
    "                                            #, [(((20e6+1)-min_val)/range_val), 'rgb(255, 255, 0)'] # red+green = yellow\n",
    "                                            , [((max_val)/range_val), 'rgb(255, 0, 0)']], #red                    hover_name='origin',\n",
    "                    locationmode='USA-states',\n",
    "                    labels={'Current Unemployment Rate':'Unemployment Rate %'},\n",
    "                    scope='usa')\n",
    "fig.show()"
   ]
  },
  {
   "cell_type": "code",
   "execution_count": null,
   "id": "172dc1c8-038b-4378-af3d-69c5d4d49930",
   "metadata": {
    "tags": []
   },
   "outputs": [],
   "source": [
    "plot_df = all_states_origin_reg_nonjetsandjets\n",
    "plot_colname = 'mape'\n",
    "\n",
    "max_val = plot_df[plot_colname].max()\n",
    "min_val=plot_df[plot_colname].min()\n",
    "\n",
    "range_val = max_val\n",
    "print(min_val, max_val, range_val)\n",
    "\n",
    "fig = px.choropleth(plot_df,\n",
    "                    locations='abbr',\n",
    "                    color=plot_colname,\n",
    "                    # color_continuous_scale='spectral_r',\n",
    "                    color_continuous_scale=[  [((0)/range_val), 'rgb(0, 255, 255)'] # green+blue\n",
    "                                            , [((min_val)/range_val),  'rgb(255, 255, 0)'] # red+green = yellow\n",
    "                                            #, [(((20e6+1)-min_val)/range_val), 'rgb(255, 255, 0)'] # red+green = yellow\n",
    "                                            , [((max_val)/range_val), 'rgb(255, 0, 0)']], #red                    hover_name='origin',\n",
    "                    locationmode='USA-states',\n",
    "                    labels={'Current Unemployment Rate':'Unemployment Rate %'},\n",
    "                    scope='usa')\n",
    "fig.show()"
   ]
  },
  {
   "cell_type": "code",
   "execution_count": null,
   "id": "98da6d97-f453-4f50-be86-2992a7376dc4",
   "metadata": {
    "tags": []
   },
   "outputs": [],
   "source": [
    "all_states_origin_reg_jets = pd.read_csv('./../../../data/paav_cargo/geoplot_exercise_data/geoplot_data_origin_analysis_4_regional_jets.csv')\n",
    "all_states_origin_reg_jets"
   ]
  },
  {
   "cell_type": "code",
   "execution_count": null,
   "id": "ab4d38fe-044f-422c-af8b-ec193eddf69f",
   "metadata": {
    "tags": []
   },
   "outputs": [],
   "source": [
    "abbr  = {'Alabama': 'AL',\n",
    "        'Alaska': 'AK',\n",
    "        'Arizona': 'AZ',\n",
    "        'Arkansas': 'AR',\n",
    "        'California': 'CA',\n",
    "        'Colorado': 'CO',\n",
    "        'Connecticut': 'CT',\n",
    "        'District of Columbia': 'DC',\n",
    "        'Florida': 'FL',\n",
    "        'Georgia': 'GA',\n",
    "        'Hawaii': 'HI',\n",
    "        'Idaho': 'ID',\n",
    "        'Illinois': 'IL',\n",
    "        'Indiana': 'IN',\n",
    "        'Iowa': 'IA',\n",
    "        'Kansas': 'KS',\n",
    "        'Kentucky': 'KY',\n",
    "        'Louisiana': 'LA',\n",
    "        'Maine': 'ME',\n",
    "        'Maryland': 'MD',\n",
    "        'Massachusetts': 'MA',\n",
    "        'Michigan': 'MI',\n",
    "        'Minnesota': 'MN',\n",
    "        'Mississippi': 'MS',\n",
    "        'Missouri': 'MO',\n",
    "        'Montana': 'MT',\n",
    "        'Nebraska': 'NE',\n",
    "        'Nevada': 'NV',\n",
    "        'New Hampshire': 'NH',\n",
    "        'New Jersey': 'NJ',\n",
    "        'New Mexico': 'NM',\n",
    "        'New York': 'NY',\n",
    "        'North Carolina': 'NC',\n",
    "        'North Dakota': 'ND',\n",
    "        'Ohio': 'OH',\n",
    "        'Oklahoma': 'OK',\n",
    "        'Oregon': 'OR',\n",
    "        'Pennsylvania': 'PA',\n",
    "        'Rhode Island': 'RI',\n",
    "        'South Carolina': 'SC',\n",
    "        'South Dakota': 'SD',\n",
    "        'Tennessee': 'TN',\n",
    "        'Texas': 'TX',\n",
    "        'Utah': 'UT',\n",
    "        'Vermont': 'VT',\n",
    "        'Virginia': 'VA',\n",
    "        'Washington': 'WA',\n",
    "        'West Virginia': 'WV',\n",
    "        'Wisconsin': 'WI',\n",
    "        'Wyoming': 'WY'}"
   ]
  },
  {
   "cell_type": "code",
   "execution_count": null,
   "id": "122765c6-b785-4446-8bda-34400108d7df",
   "metadata": {
    "tags": []
   },
   "outputs": [],
   "source": [
    "all_states_origin_reg_jets['abbr'] = all_states_origin_reg_nonjetsandjets['origin'].map(abbr)\n",
    "all_states_origin_reg_jets"
   ]
  },
  {
   "cell_type": "code",
   "execution_count": null,
   "id": "3ecf31e4-2e3f-4a76-aaa3-d7f4cc5cd663",
   "metadata": {
    "tags": []
   },
   "outputs": [],
   "source": [
    "plot_df = all_states_origin_reg_jets\n",
    "plot_colname = 'pct_inc'\n",
    "\n",
    "max_val = plot_df[plot_colname].max()\n",
    "min_val=plot_df[plot_colname].min()\n",
    "range_val = max_val-min_val\n",
    "\n",
    "fig = px.choropleth(plot_df,\n",
    "                    locations='abbr',\n",
    "                    color=plot_colname,\n",
    "                    # color_continuous_scale='spectral_r',\n",
    "                    color_continuous_scale=[[((min_val-min_val)/range_val), 'rgb(0, 0, 255)'] # blue 'rgb(0, 0, 0)'] #white 'rgb(255, 255, 0)'] #yellow\n",
    "                                            , [((0-min_val)/range_val), 'rgb(0, 255, 255)'] # green+blue\n",
    "                                            , [((1-min_val)/range_val),  'rgb(255, 255, 0)'] # red+green = yellow'rgb(0, 255, 255)'] # green\n",
    "                                            #, [(((20e6+1)-min_val)/range_val), 'rgb(255, 255, 0)'] # red+green = yellow\n",
    "                                            , [((max_val-min_val)/range_val), 'rgb(255, 0, 0)']], #red                    hover_name='origin',\n",
    "                    locationmode='USA-states',\n",
    "                    labels={'Current Unemployment Rate':'Unemployment Rate %'},\n",
    "                    scope='usa')\n",
    "fig.show()"
   ]
  },
  {
   "cell_type": "code",
   "execution_count": null,
   "id": "73dc1598-9d7a-4d1c-af0f-b46bd54956cb",
   "metadata": {
    "tags": []
   },
   "outputs": [],
   "source": [
    "if 0:\n",
    "    experimenting5 = all_states_origin_reg_jets.copy(deep=True)\n",
    "    experimenting5.drop(experimenting5[experimenting5['origin'] == 'Maine'].index,inplace=True)\n",
    "    experimenting5.drop(experimenting5[experimenting5['origin'] == 'South Dakota'].index,inplace=True)\n",
    "    # experimenting5.drop(experimenting5[experimenting5['origin'] == 'Ohio'].index,inplace=True)\n",
    "    # experimenting5.drop(experimenting5[experimenting5['origin'] == 'Rhode Island'].index,inplace=True)\n",
    "\n",
    "    fig = px.choropleth(experimenting5,\n",
    "                        locations='abbr',\n",
    "                        color='pct_inc',\n",
    "                        color_continuous_scale='spectral_r',\n",
    "                        hover_name='origin',\n",
    "                        locationmode='USA-states',\n",
    "                        labels={'Current Unemployment Rate':'Unemployment Rate %'},\n",
    "                        scope='usa')\n",
    "    fig.show()"
   ]
  },
  {
   "cell_type": "code",
   "execution_count": null,
   "id": "10a45cb0-59d7-48d0-b6d9-9a3bc5962ec9",
   "metadata": {
    "tags": []
   },
   "outputs": [],
   "source": [
    "if 0:\n",
    "    experimenting5.drop(experimenting5[experimenting5['origin'] == 'Ohio'].index,inplace=True)\n",
    "    experimenting5.drop(experimenting5[experimenting5['origin'] == 'Rhode Island'].index,inplace=True)\n",
    "\n",
    "    fig = px.choropleth(experimenting5,\n",
    "                        locations='abbr',\n",
    "                        color='pct_inc',\n",
    "                        color_continuous_scale='spectral_r',\n",
    "                        hover_name='origin',\n",
    "                        locationmode='USA-states',\n",
    "                        labels={'Current Unemployment Rate':'Unemployment Rate %'},\n",
    "                        scope='usa')\n",
    "    fig.show()"
   ]
  },
  {
   "cell_type": "code",
   "execution_count": null,
   "id": "84ae8d45-eb20-40fd-b3c1-3d0bc02c84f7",
   "metadata": {
    "tags": []
   },
   "outputs": [],
   "source": [
    "# fig = px.choropleth(all_states_origin_reg_jets,\n",
    "#                     locations='abbr',\n",
    "#                     color='crt_abs_y',\n",
    "#                     color_continuous_scale='spectral_r',\n",
    "#                     hover_name='origin',\n",
    "#                     locationmode='USA-states',\n",
    "#                     labels={'Current Unemployment Rate':'Unemployment Rate %'},\n",
    "#                     scope='usa')\n",
    "# fig.show()\n",
    "\n",
    "plot_df = all_states_origin_reg_jets\n",
    "plot_colname = 'crt_abs_y'\n",
    "\n",
    "max_val = plot_df[plot_colname].max()\n",
    "min_val=plot_df[plot_colname].min()\n",
    "\n",
    "range_val = max_val\n",
    "print(min_val, max_val, range_val)\n",
    "\n",
    "fig = px.choropleth(plot_df,\n",
    "                    locations='abbr',\n",
    "                    color=plot_colname,\n",
    "                    # color_continuous_scale='spectral_r',\n",
    "                    color_continuous_scale=[  [((0)/range_val), 'rgb(0, 255, 255)'] # green+blue\n",
    "                                            , [((min_val)/range_val),  'rgb(255, 255, 0)'] # red+green = yellow\n",
    "                                            #, [(((20e6+1)-min_val)/range_val), 'rgb(255, 255, 0)'] # red+green = yellow\n",
    "                                            , [((max_val)/range_val), 'rgb(255, 0, 0)']], #red                    hover_name='origin',\n",
    "                    locationmode='USA-states',\n",
    "                    labels={'Current Unemployment Rate':'Unemployment Rate %'},\n",
    "                    scope='usa')\n",
    "fig.show()"
   ]
  },
  {
   "cell_type": "code",
   "execution_count": null,
   "id": "49eca31c-8a7f-44eb-938e-3dabdcbdcc06",
   "metadata": {
    "tags": []
   },
   "outputs": [],
   "source": [
    "if 0:\n",
    "    experimenting6 = all_states_origin_reg_jets.copy(deep=True)\n",
    "    experimenting6.drop(experimenting6[experimenting6['origin'] == 'Kentucky'].index,inplace=True)\n",
    "    experimenting6.drop(experimenting6[experimenting6['origin'] == 'Tennessee'].index,inplace=True)\n",
    "\n",
    "    fig = px.choropleth(experimenting6,\n",
    "                        locations='abbr',\n",
    "                        color='crt_abs_y',\n",
    "                        color_continuous_scale='spectral_r',\n",
    "                        hover_name='origin',\n",
    "                        locationmode='USA-states',\n",
    "                        labels={'Current Unemployment Rate':'Unemployment Rate %'},\n",
    "                        scope='usa')\n",
    "    fig.show()"
   ]
  },
  {
   "cell_type": "code",
   "execution_count": null,
   "id": "37988abf-d489-4de7-b284-8f10e45d7e2e",
   "metadata": {
    "tags": []
   },
   "outputs": [],
   "source": [
    "# fig = px.choropleth(all_states_origin_reg_jets,\n",
    "#                     locations='abbr',\n",
    "#                     color='abs_yhat',\n",
    "#                     color_continuous_scale='spectral_r',\n",
    "#                     hover_name='origin',\n",
    "#                     locationmode='USA-states',\n",
    "#                     labels={'Current Unemployment Rate':'Unemployment Rate %'},\n",
    "#                     scope='usa')\n",
    "# fig.show()\n",
    "\n",
    "plot_df = all_states_origin_reg_jets\n",
    "plot_colname = 'abs_yhat'\n",
    "\n",
    "max_val = plot_df[plot_colname].max()\n",
    "min_val=plot_df[plot_colname].min()\n",
    "range_val = max_val-min_val\n",
    "\n",
    "fig = px.choropleth(plot_df,\n",
    "                    locations='abbr',\n",
    "                    color=plot_colname,\n",
    "                    # color_continuous_scale='spectral_r',\n",
    "                    color_continuous_scale=[[((min_val-min_val)/range_val), 'rgb(0, 0, 255)'] # blue 'rgb(0, 0, 0)'] #white 'rgb(255, 255, 0)'] #yellow\n",
    "                                            , [((0-min_val)/range_val), 'rgb(0, 255, 255)'] # green+blue\n",
    "                                            , [((1-min_val)/range_val),  'rgb(255, 255, 0)'] # red+green = yellow'rgb(0, 255, 255)'] # green\n",
    "                                            #, [(((20e6+1)-min_val)/range_val), 'rgb(255, 255, 0)'] # red+green = yellow\n",
    "                                            , [((max_val-min_val)/range_val), 'rgb(255, 0, 0)']], #red                    hover_name='origin',\n",
    "                    locationmode='USA-states',\n",
    "                    labels={'Current Unemployment Rate':'Unemployment Rate %'},\n",
    "                    scope='usa')\n",
    "fig.show()"
   ]
  },
  {
   "cell_type": "code",
   "execution_count": null,
   "id": "e4faa9b2-44d3-4928-8ddd-7fbc1d02f80c",
   "metadata": {
    "tags": []
   },
   "outputs": [],
   "source": [
    "if 0:\n",
    "    experimenting7 = all_states_origin_reg_jets.copy(deep=True)\n",
    "    experimenting7.drop(experimenting7[experimenting7['origin'] == 'Kentucky'].index,inplace=True)\n",
    "    experimenting7.drop(experimenting7[experimenting7['origin'] == 'Tennessee'].index,inplace=True)\n",
    "\n",
    "    fig = px.choropleth(experimenting7,\n",
    "                        locations='abbr',\n",
    "                        color='abs_yhat',\n",
    "                        color_continuous_scale='spectral_r',\n",
    "                        hover_name='origin',\n",
    "                        locationmode='USA-states',\n",
    "                        labels={'Current Unemployment Rate':'Unemployment Rate %'},\n",
    "                        scope='usa')\n",
    "    fig.show()"
   ]
  },
  {
   "cell_type": "code",
   "execution_count": null,
   "id": "5a4f62c0-d2e0-4d8c-8c6d-453d695964bc",
   "metadata": {
    "tags": []
   },
   "outputs": [],
   "source": [
    "# fig = px.choropleth(all_states_origin_reg_jets,\n",
    "#                     locations='abbr',\n",
    "#                     color='mape',\n",
    "#                     color_continuous_scale='spectral_r',\n",
    "#                     hover_name='origin',\n",
    "#                     locationmode='USA-states',\n",
    "#                     labels={'Current Unemployment Rate':'Unemployment Rate %'},\n",
    "#                     scope='usa')\n",
    "# fig.show()\n",
    "\n",
    "plot_df = all_states_origin_reg_jets\n",
    "plot_colname = 'mape'\n",
    "\n",
    "max_val = plot_df[plot_colname].max()\n",
    "min_val=plot_df[plot_colname].min()\n",
    "\n",
    "range_val = max_val\n",
    "print(min_val, max_val, range_val)\n",
    "\n",
    "fig = px.choropleth(plot_df,\n",
    "                    locations='abbr',\n",
    "                    color=plot_colname,\n",
    "                    # color_continuous_scale='spectral_r',\n",
    "                    color_continuous_scale=[  [((0)/range_val), 'rgb(0, 255, 255)'] # green+blue\n",
    "                                            , [((min_val)/range_val),  'rgb(255, 255, 0)'] # red+green = yellow\n",
    "                                            #, [(((20e6+1)-min_val)/range_val), 'rgb(255, 255, 0)'] # red+green = yellow\n",
    "                                            , [((max_val)/range_val), 'rgb(255, 0, 0)']], #red                    hover_name='origin',\n",
    "                    locationmode='USA-states',\n",
    "                    labels={'Current Unemployment Rate':'Unemployment Rate %'},\n",
    "                    scope='usa')\n",
    "fig.show()"
   ]
  },
  {
   "cell_type": "code",
   "execution_count": null,
   "id": "2632efc7-ef65-46c1-b898-0f74b7785524",
   "metadata": {},
   "outputs": [],
   "source": []
  }
 ],
 "metadata": {
  "kernelspec": {
   "display_name": "Python 3 (ipykernel)",
   "language": "python",
   "name": "python3"
  },
  "language_info": {
   "codemirror_mode": {
    "name": "ipython",
    "version": 3
   },
   "file_extension": ".py",
   "mimetype": "text/x-python",
   "name": "python",
   "nbconvert_exporter": "python",
   "pygments_lexer": "ipython3",
   "version": "3.7.17"
  }
 },
 "nbformat": 4,
 "nbformat_minor": 5
}
