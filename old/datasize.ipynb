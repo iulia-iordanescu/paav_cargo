{
 "cells": [
  {
   "cell_type": "code",
   "execution_count": null,
   "id": "e2c82830-f299-4447-91dc-0d3759e0b290",
   "metadata": {},
   "outputs": [],
   "source": [
    "from IPython.core.interactiveshell import InteractiveShell\n",
    "InteractiveShell.ast_node_interactivity = \"all\""
   ]
  },
  {
   "cell_type": "code",
   "execution_count": null,
   "id": "5e95c92b-12fd-4cce-a504-5237ceb6bf3a",
   "metadata": {},
   "outputs": [],
   "source": [
    "import sys, os, pathlib, shutil, platform\n",
    "import pandas as pd\n",
    "import numpy as np\n",
    "import matplotlib.pyplot as plt\n",
    "\n",
    "from statsmodels.tsa.seasonal import seasonal_decompose\n",
    "from statsmodels.tsa.statespace.sarimax import SARIMAX\n",
    "\n",
    "from prophet import Prophet\n",
    "from prophet.plot import plot_plotly, plot_components_plotly\n",
    "# import plotly.graph_objs as go\n",
    "import plotly.express as px\n"
   ]
  },
  {
   "cell_type": "code",
   "execution_count": null,
   "id": "04c4a1c9-adca-4dc5-9b02-0e0a648bb7a6",
   "metadata": {},
   "outputs": [],
   "source": [
    "! pwd\n",
    "! ls -la ./../../data/paav_cargo/T-100Segment_AllCarriers/DL_SelectFields_AllMonths_AllGeo_2019"
   ]
  },
  {
   "cell_type": "code",
   "execution_count": null,
   "id": "d197353b-1a13-463b-adb5-bb6c17fa4032",
   "metadata": {},
   "outputs": [],
   "source": [
    "def load_datsets(years_list):\n",
    "    full_path_list = ['./../../data/paav_cargo/T-100Segment_AllCarriers/DL_SelectFields_AllMonths_AllGeo_'+\n",
    "                 str(crt_year) + '/T_T100_SEGMENT_ALL_CARRIER.csv'\n",
    "                 for crt_year in years_list]\n",
    "    allDatasets= pd.concat([pd.read_csv(str(crt_file_name))  for crt_file_name in full_path_list], keys=years_list).reset_index()\n",
    "    return allDatasets\n",
    "\n",
    "\n",
    "years_list = [2019, 2020, 2021, 2022]\n",
    "myData = load_datsets(years_list)"
   ]
  },
  {
   "cell_type": "code",
   "execution_count": null,
   "id": "e0d963dd-2ab5-42f9-aa5a-ffd78b50db00",
   "metadata": {},
   "outputs": [],
   "source": [
    "myData.shape\n",
    "myData.size\n",
    "myData.head()"
   ]
  },
  {
   "cell_type": "code",
   "execution_count": null,
   "id": "31842694-083b-4cf1-903d-fb105facc132",
   "metadata": {},
   "outputs": [],
   "source": [
    "1425990*52\n"
   ]
  },
  {
   "cell_type": "code",
   "execution_count": null,
   "id": "c8dd7425-99f3-4eaa-afa0-318223bb7a11",
   "metadata": {},
   "outputs": [],
   "source": [
    "148967 + 108570 + 140996 + 38176"
   ]
  },
  {
   "cell_type": "code",
   "execution_count": null,
   "id": "b016e76c-4fc7-4c0c-b97c-089977a4f17d",
   "metadata": {},
   "outputs": [],
   "source": []
  }
 ],
 "metadata": {
  "kernelspec": {
   "display_name": "Python 3 (ipykernel)",
   "language": "python",
   "name": "python3"
  },
  "language_info": {
   "codemirror_mode": {
    "name": "ipython",
    "version": 3
   },
   "file_extension": ".py",
   "mimetype": "text/x-python",
   "name": "python",
   "nbconvert_exporter": "python",
   "pygments_lexer": "ipython3",
   "version": "3.7.11"
  }
 },
 "nbformat": 4,
 "nbformat_minor": 5
}
