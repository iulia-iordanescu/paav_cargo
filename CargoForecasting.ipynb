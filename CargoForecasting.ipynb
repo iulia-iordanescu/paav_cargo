{
 "cells": [
  {
   "cell_type": "code",
   "execution_count": null,
   "id": "975d999b-b894-4bbf-983a-07ce4b06ffd2",
   "metadata": {},
   "outputs": [],
   "source": [
    "from IPython.core.interactiveshell import InteractiveShell\n",
    "InteractiveShell.ast_node_interactivity = \"all\""
   ]
  },
  {
   "cell_type": "code",
   "execution_count": null,
   "id": "a1724208-9124-42d5-b70e-e793cc37e571",
   "metadata": {},
   "outputs": [],
   "source": [
    "import sys, os, pathlib, shutil, platform\n",
    "import pandas as pd\n",
    "import numpy as np\n",
    "import matplotlib.pyplot as plt\n",
    "\n",
    "from statsmodels.tsa.seasonal import seasonal_decompose\n",
    "from statsmodels.tsa.statespace.sarimax import SARIMAX\n",
    "\n",
    "from prophet import Prophet\n",
    "from prophet.plot import plot_plotly, plot_components_plotly\n",
    "# import plotly.graph_objs as go\n",
    "import plotly.express as px\n"
   ]
  },
  {
   "cell_type": "code",
   "execution_count": null,
   "id": "91013e5a-e5ba-4515-b436-d970918e20bc",
   "metadata": {
    "tags": []
   },
   "outputs": [],
   "source": [
    "%matplotlib inline \n",
    "%load_ext autoreload\n",
    "%autoreload 2\n",
    " \n",
    "plt.rcParams['figure.figsize']=(20,10)"
   ]
  },
  {
   "cell_type": "code",
   "execution_count": null,
   "id": "6d9a8a8b-8ed8-46f2-8776-d573bcfbb3c5",
   "metadata": {},
   "outputs": [],
   "source": [
    "def get_num_unique_as_df(crt_df):\n",
    "    \"\"\"\n",
    "    Utils function\n",
    "\n",
    "    Returns:\n",
    "    pd dataframe with 'Column_Name', 'Num_Unique' columns, ordered by Num_Unique\n",
    "    \"\"\"\n",
    "    return (pd.DataFrame.from_records([(col, crt_df[col].nunique()) for col in crt_df.columns],\n",
    "                          columns=['Column_Name', 'Num_Unique']).sort_values(by=['Num_Unique']))\n",
    "\n",
    "# def aa(crt_df):\n",
    "#     \n",
    "#     mylist = []\n",
    "#     for col in crt_df.columns:\n",
    "#         mylist.append((col, crt_df[col].nunique()))\n",
    "#     return  (pd.DataFrame.from_records(mylist, columns=['Column_Name', 'Num_Unique']).sort_values(by=['Num_Unique']))\n",
    "    \n",
    "# aa(mySmallData)"
   ]
  },
  {
   "cell_type": "markdown",
   "id": "d5be0917-21db-4a7e-a56c-473a11fd9616",
   "metadata": {},
   "source": [
    "### load data"
   ]
  },
  {
   "cell_type": "code",
   "execution_count": null,
   "id": "9bd48d48-b735-4d43-bc41-b641af765dcd",
   "metadata": {
    "tags": []
   },
   "outputs": [],
   "source": [
    "!pwd\n",
    "! ls -la ./../../data/aviationMLCapstoneProjectData/DL_SelectFields_AllMonth_2022/DL_SelectFields/T_T100_SEGMENT_ALL_CARRIER.csv"
   ]
  },
  {
   "cell_type": "code",
   "execution_count": null,
   "id": "19a9c741-8cd5-419d-8672-c6459e779c16",
   "metadata": {},
   "outputs": [],
   "source": [
    "def load_datsets(years_list):\n",
    "    full_path_list = ['./../../data/aviationMLCapstoneProjectData/DL_SelectFields_AllMonth_'+\n",
    "                 str(crt_year)\n",
    "                 +'/DL_SelectFields/T_T100_SEGMENT_ALL_CARRIER.csv' for crt_year in years_list]\n",
    "    allDatasets= pd.concat([pd.read_csv(str(crt_file_name))  for crt_file_name in full_path_list], keys=years_list).reset_index()\n",
    "    return allDatasets\n",
    "\n",
    "\n",
    "years_list = [2019, 2020, 2021, 2022]\n",
    "myData = load_datsets(years_list)"
   ]
  },
  {
   "cell_type": "code",
   "execution_count": null,
   "id": "7cd60ce9-796d-4d63-af47-a22aaebdf52c",
   "metadata": {},
   "outputs": [],
   "source": [
    "myData.shape\n",
    "myData.head(2)\n",
    "myData.tail(2)"
   ]
  },
  {
   "cell_type": "code",
   "execution_count": null,
   "id": "50b9d980-daa8-4128-be9f-cade9376d670",
   "metadata": {},
   "outputs": [],
   "source": [
    "myData.info()"
   ]
  },
  {
   "cell_type": "code",
   "execution_count": null,
   "id": "d8275a96-3dfd-4bfd-aed6-6fed9d2e1a08",
   "metadata": {},
   "outputs": [],
   "source": [
    "myData['ORIGIN_STATE_NM'].unique()\n",
    "myData['ORIGIN_COUNTRY_NAME'].unique()    "
   ]
  },
  {
   "cell_type": "markdown",
   "id": "985c6749-0b9a-4280-86d5-bf8873858d6a",
   "metadata": {},
   "source": [
    "### Limit analysis to a certain geo (only one state, or whole country)"
   ]
  },
  {
   "cell_type": "code",
   "execution_count": null,
   "id": "4bbb66d1-e73b-44e1-b966-1999c44c2eb7",
   "metadata": {},
   "outputs": [],
   "source": [
    "geo_aggregation =  {'STATE':'Texas'}#{'STATE':'Arizona'} \n",
    "geo_aggregation = {'COUNTRY':'United States'}"
   ]
  },
  {
   "cell_type": "code",
   "execution_count": null,
   "id": "3465ea86-44fb-4634-8aa5-db0318e12f7d",
   "metadata": {},
   "outputs": [],
   "source": [
    "if 'STATE' in geo_aggregation.keys():\n",
    "    mySmallData = myData.loc[myData['ORIGIN_STATE_NM'] .isin( geo_aggregation.values())]\n",
    "    print('geo_aggregation is STATE')\n",
    "    print(geo_aggregation.keys())\n",
    "    print(geo_aggregation.values())\n",
    "    \n",
    "if 'COUNTRY' in geo_aggregation.keys():\n",
    "    mySmallData = myData.loc[myData['ORIGIN_COUNTRY_NAME'] .isin( geo_aggregation.values())]\n",
    "    print('geo_aggregation is country')\n",
    "    print(geo_aggregation.keys())\n",
    "    print(geo_aggregation.values())\n",
    "    \n",
    "    \n",
    "mySmallData = mySmallData.rename({'level_0': 'OrigYEAR'}, axis=1)\n",
    "\n",
    "mySmallData.head(2)\n",
    "mySmallData.tail(2)"
   ]
  },
  {
   "cell_type": "code",
   "execution_count": null,
   "id": "04902930-9755-4788-92e3-342c026bf7d1",
   "metadata": {},
   "outputs": [],
   "source": [
    "# def get_num_unique_as_df(crt_df):\n",
    "#     \"\"\"\n",
    "#     Utils function\n",
    "\n",
    "#     Returns:\n",
    "#     pd dataframe with 'Column_Name', 'Num_Unique' columns, ordered by Num_Unique\n",
    "#     \"\"\"\n",
    "#     return (pd.DataFrame.from_records([(col, crt_df[col].nunique()) for col in crt_df.columns],\n",
    "#                           columns=['Column_Name', 'Num_Unique']).sort_values(by=['Num_Unique']))\n",
    "\n",
    "def aa(crt_df):\n",
    "    # mylist = [col for col in crt_df.columns]\n",
    "    mylist = []\n",
    "    for col in crt_df.columns:\n",
    "        mylist.append((col, crt_df[col].nunique()))\n",
    "    return  (pd.DataFrame.from_records(mylist, columns=['Column_Name', 'Num_Unique']).sort_values(by=['Num_Unique']))\n",
    "    \n",
    "aa(mySmallData)"
   ]
  },
  {
   "cell_type": "code",
   "execution_count": null,
   "id": "88c0a2de-ebcf-4f1d-88f6-50d4a0a3a226",
   "metadata": {},
   "outputs": [],
   "source": [
    "mySmallData['ORIGIN_STATE_NM'].unique()\n",
    "mySmallData['ORIGIN_COUNTRY_NAME'].unique()\n",
    "mySmallData['DEST_COUNTRY_NAME'].unique()\n",
    "mySmallData['YEAR'].unique()\n",
    "get_num_unique_as_df(mySmallData)"
   ]
  },
  {
   "cell_type": "code",
   "execution_count": null,
   "id": "2d9f76a4-6d1c-4c1f-8415-0bef36d7afc8",
   "metadata": {},
   "outputs": [],
   "source": []
  },
  {
   "cell_type": "markdown",
   "id": "9b9dfb9b-16d6-4c74-933d-6a2a9b6a852a",
   "metadata": {},
   "source": [
    "### Create grouping column to allow group_by month and year"
   ]
  },
  {
   "cell_type": "code",
   "execution_count": null,
   "id": "45c49073-70cb-4b3c-8498-919c8680a427",
   "metadata": {},
   "outputs": [],
   "source": [
    "mySmallData['FullDate'] = mySmallData['YEAR'].map(str) +\"-\"+ mySmallData[\"MONTH\"].map(str) + \"-01\"\n",
    "mySmallData['FullDate'] = pd.to_datetime(mySmallData['FullDate'],format='%Y-%m-%d')\n",
    "\n",
    "data_column='FREIGHT'\n",
    "\n",
    "if 'STATE' in geo_aggregation.keys():\n",
    "    geoAggColumn = 'ORIGIN_STATE_NM'\n",
    "    \n",
    "if 'COUNTRY' in geo_aggregation.keys():\n",
    "    geoAggColumn = 'ORIGIN_COUNTRY_NAME'\n",
    "\n",
    "regressionData = mySmallData.groupby([geoAggColumn,'FullDate'])[data_column].sum().reset_index()\n",
    "\n",
    "regressionData.sort_values(by=['FullDate'], ascending=True, inplace=True)\n",
    "regressionData"
   ]
  },
  {
   "cell_type": "code",
   "execution_count": null,
   "id": "fed89047-0dd8-45f1-a1d2-3c684af96e61",
   "metadata": {},
   "outputs": [],
   "source": [
    "regressionData.index = pd.to_datetime(regressionData['FullDate'],format='%Y-%m-%d')\n",
    "regressionData.drop(columns=['FullDate', geoAggColumn],inplace=True)\n",
    "regressionData.sort_index(inplace=True)\n",
    "regressionData\n",
    "regressionData.plot()"
   ]
  },
  {
   "cell_type": "markdown",
   "id": "f69f322e-c5fe-427f-a289-d41bb7909088",
   "metadata": {},
   "source": [
    "### Plotting exercise - data split by time index"
   ]
  },
  {
   "cell_type": "code",
   "execution_count": null,
   "id": "a2d35370-de6f-429f-852b-a91e61f24277",
   "metadata": {},
   "outputs": [],
   "source": [
    "train = regressionData[regressionData.index < pd.to_datetime(\"2021-01-01\", format='%Y-%m-%d')]\n",
    "test = regressionData[regressionData.index >= pd.to_datetime(\"2021-01-01\", format='%Y-%m-%d')]\n",
    "\n",
    "plt.plot(train, color = \"black\")\n",
    "plt.plot(test, color = \"red\")\n",
    "plt.ylabel('Cargo data')\n",
    "plt.xlabel('Date')\n",
    "plt.xticks(rotation=45)\n",
    "plt.title(\"Train/Test split for Cargo Data\")\n",
    "plt.show()"
   ]
  },
  {
   "cell_type": "markdown",
   "id": "9ce56ba5-db4d-4879-8313-000b9e21c833",
   "metadata": {},
   "source": [
    "### See trends, seasonality (using statsmodels.tsa.seasonal import seasonal_decompose)"
   ]
  },
  {
   "cell_type": "code",
   "execution_count": null,
   "id": "e1756cb3-8fbb-4c6b-9fc4-f0c6edd160b9",
   "metadata": {},
   "outputs": [],
   "source": [
    "decompose_data = seasonal_decompose(regressionData, model=\"additive\")\n",
    "decompose_data.plot();"
   ]
  },
  {
   "cell_type": "code",
   "execution_count": null,
   "id": "5e5810ec-e4c7-44a2-9156-f58fd8b96104",
   "metadata": {},
   "outputs": [],
   "source": [
    "\n",
    "def prophet_fc(df):\n",
    "    m = Prophet()\n",
    "    m.fit(df)\n",
    "    future = m.make_future_dataframe(periods=120, freq='M')\n",
    "    forecast = m.predict(future)\n",
    "    return forecast, future, m\n",
    "\n",
    "    \n",
    "fc_regression_data=regressionData.reset_index()\n",
    "fc_regression_data = fc_regression_data.rename(columns={'FullDate': 'ds',\n",
    "                        data_column: 'y'})\n",
    "fc_regression_data\n",
    "# fc, future, model = prophet_fc(fc_regression_data)   \n",
    "# future\n",
    "# fc\n",
    "# fc[['ds', 'yhat', 'yhat_lower', 'yhat_upper']].tail()"
   ]
  },
  {
   "cell_type": "code",
   "execution_count": null,
   "id": "a87c781e-a332-4afa-aa80-3c379ae5ff7f",
   "metadata": {},
   "outputs": [],
   "source": [
    "# plot_plotly(model, fc)"
   ]
  },
  {
   "cell_type": "code",
   "execution_count": null,
   "id": "eb828ebb-d1ab-468b-a7d3-4bc6b52360f6",
   "metadata": {},
   "outputs": [],
   "source": [
    "def forecast_in_sample(hold_out_samples_count, df, growth = 'linear'):\n",
    "    train_data = df.drop(df.index[-hold_out_samples_count:])\n",
    "    print(train_data.head(4), train_data.tail(4))\n",
    "    print(train_data.shape)\n",
    "    \n",
    "    model = Prophet(growth=growth)\n",
    "    model.fit(train_data)\n",
    "    \n",
    "    future = df[['ds']].reset_index()                         # predicts for all ds values\n",
    "    forecast = model.predict(future)\n",
    "    return forecast, model\n",
    "\n",
    "def forecast_future(future_samples_count, df, growth = 'linear'):\n",
    "    model = Prophet(growth=growth)\n",
    "    model.fit(df)\n",
    "    \n",
    "    future = model.make_future_dataframe(periods=future_samples_count, freq='m')\n",
    "\n",
    "    forecast = model.predict(future)\n",
    "    return forecast, model\n",
    "\n",
    "\n",
    "def forecasted_percentiles(fc_model, input_df, percentiles = [2.5, 5, 20, 80, 95, 97.5, 50]):     \n",
    "    forecasted_samples = fc_model.predictive_samples(input_df)\n",
    "    forecasted_stats=pd.DataFrame(data=np.transpose(np.percentile(forecasted_samples['yhat'], percentiles, axis=1 ))\n",
    "             ,  columns = ['pct_'+str(x) for x in percentiles])\n",
    "    forecasted_stats.insert(loc=0, column='ds', value=input_df['ds'])\n",
    "    return forecasted_stats "
   ]
  },
  {
   "cell_type": "markdown",
   "id": "1c77584c-fbf7-446b-9817-117cb20e04ef",
   "metadata": {},
   "source": [
    "## In-sample analysis (understand fc performance)"
   ]
  },
  {
   "cell_type": "code",
   "execution_count": null,
   "id": "14e1df22-232d-4cd9-b9bc-dc78a11b1630",
   "metadata": {},
   "outputs": [],
   "source": [
    "hold_out_samples=5\n",
    "forecasted_df, fc_model = forecast_in_sample(hold_out_samples, fc_regression_data)"
   ]
  },
  {
   "cell_type": "markdown",
   "id": "4d81c349-17ba-4cde-a9ce-504213a2bf94",
   "metadata": {},
   "source": [
    "#### static(non-interactive) model plot  "
   ]
  },
  {
   "cell_type": "code",
   "execution_count": null,
   "id": "92c9d5e5-aebf-4a05-918a-4f8b3db7c7ee",
   "metadata": {},
   "outputs": [],
   "source": [
    "uncertainty=True\n",
    "fig1 = fc_model.plot(forecasted_df, uncertainty = uncertainty)\n",
    "figax = fig1.axes[0]\n",
    "figax.plot(fc_regression_data[-hold_out_samples:]['ds'].dt.to_pydatetime(), \n",
    "            fc_regression_data[-hold_out_samples:][['y']], 'r.',\n",
    "            label='(Future) Observed data points')"
   ]
  },
  {
   "cell_type": "markdown",
   "id": "f4a305a6-1391-4d7b-9de6-8d2c7102ce41",
   "metadata": {},
   "source": [
    "#### interactive model plot  "
   ]
  },
  {
   "cell_type": "code",
   "execution_count": null,
   "id": "664342fb-495d-47a3-8a16-7ae7df03c80e",
   "metadata": {},
   "outputs": [],
   "source": [
    "plot_plotly(fc_model, forecasted_df)"
   ]
  },
  {
   "cell_type": "markdown",
   "id": "3d648328-0137-4c4a-94bf-298c0613b4eb",
   "metadata": {},
   "source": [
    "## Forecasting analysis"
   ]
  },
  {
   "cell_type": "code",
   "execution_count": null,
   "id": "2e3a39c5-7041-4d8e-9fef-eed4df7d2b24",
   "metadata": {},
   "outputs": [],
   "source": [
    "future_samples_count = 36\n",
    "forecasted_df1, fc_model1 = forecast_future(future_samples_count, fc_regression_data)"
   ]
  },
  {
   "cell_type": "code",
   "execution_count": null,
   "id": "eccfbb41-9214-4cdd-b931-567d48f6418d",
   "metadata": {},
   "outputs": [],
   "source": [
    "plot_plotly(fc_model1, forecasted_df1)"
   ]
  },
  {
   "cell_type": "code",
   "execution_count": null,
   "id": "73fd8c18-9483-4d72-9a55-2a250abfd4b8",
   "metadata": {},
   "outputs": [],
   "source": [
    "percentiles = [2.5, 5, 15, 85, 95, 97.5, 50]\n",
    "forecasted_stats = forecasted_percentiles(fc_model1, forecasted_df1, percentiles = percentiles)\n",
    "forecasted_stats\n",
    "\n",
    "fig = px.line(forecasted_stats, x=\"ds\", y=['pct_5','pct_50','pct_95'], #y=fc.columns,\n",
    "              hover_data={\"ds\": \"|%B %d, %Y\"},\n",
    "              title=data_column)\n",
    "fig.show()"
   ]
  }
 ],
 "metadata": {
  "kernelspec": {
   "display_name": "Python 3 (ipykernel)",
   "language": "python",
   "name": "python3"
  },
  "language_info": {
   "codemirror_mode": {
    "name": "ipython",
    "version": 3
   },
   "file_extension": ".py",
   "mimetype": "text/x-python",
   "name": "python",
   "nbconvert_exporter": "python",
   "pygments_lexer": "ipython3",
   "version": "3.7.11"
  }
 },
 "nbformat": 4,
 "nbformat_minor": 5
}
