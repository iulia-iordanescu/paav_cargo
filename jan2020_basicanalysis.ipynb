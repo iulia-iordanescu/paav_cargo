{
 "cells": [
  {
   "cell_type": "code",
   "execution_count": null,
   "id": "92458b3b",
   "metadata": {},
   "outputs": [],
   "source": [
    "from IPython.core.interactiveshell import InteractiveShell\n",
    "InteractiveShell.ast_node_interactivity = \"all\""
   ]
  },
  {
   "cell_type": "code",
   "execution_count": null,
   "id": "baed1cdb",
   "metadata": {},
   "outputs": [],
   "source": [
    "import sys, os, pathlib, shutil, platform\n",
    "import pandas as pd\n",
    "import numpy as np\n",
    "import matplotlib.pyplot as plt\n",
    "\n",
    "from sklearn.linear_model import LogisticRegression\n",
    "from sklearn.neighbors import KNeighborsClassifier\n",
    "from sklearn import svm\n",
    "from sklearn.ensemble import RandomForestClassifier\n",
    "from sklearn.feature_selection import RFE, RFECV\n",
    "\n",
    "from sklearn.metrics import (\n",
    "    classification_report,\n",
    "    confusion_matrix,\n",
    "    accuracy_score,\n",
    "    roc_auc_score,\n",
    "    roc_curve,\n",
    "    auc,\n",
    ")\n",
    "from sklearn.model_selection import (\n",
    "    train_test_split, \n",
    "    StratifiedShuffleSplit,\n",
    "    StratifiedKFold,\n",
    ")\n",
    "\n",
    "from sklearn.preprocessing import OrdinalEncoder\n",
    "\n",
    "from sklearn.compose import make_column_transformer\n",
    "from sklearn.impute import SimpleImputer\n",
    "from sklearn.pipeline import make_pipeline\n",
    "from sklearn.preprocessing import OneHotEncoder\n",
    "from sklearn.preprocessing import OrdinalEncoder\n",
    "from sklearn.preprocessing import StandardScaler"
   ]
  },
  {
   "cell_type": "code",
   "execution_count": null,
   "id": "a08d333e",
   "metadata": {},
   "outputs": [],
   "source": [
    "!pwd\n",
    "# ! ls -la ./\n",
    "# ! ls -la ./../\n",
    "# ! ls -la ./../..\n",
    "# ! ls -la ./../../data/paav_cargo/T-100Segment_AllCarriers/DL_SelectFieldsAllMonths2022\n",
    "! ls -la ./../../data/paav_cargo/T-100Segment_AllCarriers/DL_SelectFieldsAllMonths2022/T_T100_SEGMENT_ALL_CARRIER.csv"
   ]
  },
  {
   "cell_type": "code",
   "execution_count": null,
   "id": "fde15126",
   "metadata": {},
   "outputs": [],
   "source": [
    "dataFileName='T_T100_SEGMENT_ALL_CARRIER.csv'\n",
    "dataPathFull= pathlib.Path('./../../data/paav_cargo/T-100Segment_AllCarriers/DL_SelectFieldsAllMonths2022') / dataFileName\n",
    "myData = pd.read_csv(str(dataPathFull)) "
   ]
  },
  {
   "cell_type": "code",
   "execution_count": null,
   "id": "2aad32f5",
   "metadata": {},
   "outputs": [],
   "source": [
    "# dir(dataPathFull)\n",
    "dataPathFull.drive"
   ]
  },
  {
   "cell_type": "code",
   "execution_count": null,
   "id": "5dff2254",
   "metadata": {},
   "outputs": [],
   "source": [
    "myData.shape\n",
    "myData.head(10)\n",
    "myData.tail(2)"
   ]
  },
  {
   "cell_type": "code",
   "execution_count": null,
   "id": "85e52ce1",
   "metadata": {},
   "outputs": [],
   "source": [
    "myData.info()\n",
    "myData.isnull().sum()"
   ]
  },
  {
   "cell_type": "code",
   "execution_count": null,
   "id": "4138e3a3",
   "metadata": {
    "scrolled": false
   },
   "outputs": [],
   "source": [
    "# basic descriptive statistics for numeric columns:\n",
    "myData.describe()\n",
    "myData.corr()"
   ]
  },
  {
   "cell_type": "code",
   "execution_count": null,
   "id": "ab0e09d9",
   "metadata": {},
   "outputs": [],
   "source": []
  },
  {
   "cell_type": "code",
   "execution_count": null,
   "id": "057d19a3",
   "metadata": {},
   "outputs": [],
   "source": []
  }
 ],
 "metadata": {
  "kernelspec": {
   "display_name": "Python 3 (ipykernel)",
   "language": "python",
   "name": "python3"
  },
  "language_info": {
   "codemirror_mode": {
    "name": "ipython",
    "version": 3
   },
   "file_extension": ".py",
   "mimetype": "text/x-python",
   "name": "python",
   "nbconvert_exporter": "python",
   "pygments_lexer": "ipython3",
   "version": "3.9.12"
  }
 },
 "nbformat": 4,
 "nbformat_minor": 5
}
